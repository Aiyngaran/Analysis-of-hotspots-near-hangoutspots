{
 "cells": [
  {
   "cell_type": "code",
   "execution_count": 139,
   "metadata": {},
   "outputs": [],
   "source": [
    "import math\n",
    "import numpy as np\n",
    "import pandas as pd\n",
    "pd.set_option(\"display.max_colwidth\", 200)\n",
    "from pandas.io.json import json_normalize\n",
    "\n",
    "#packages to get the coordinates and distance\n",
    "import geopy.geocoders\n",
    "from geopy.geocoders import Nominatim\n",
    "import requests\n",
    "import geopy.distance\n",
    "\n",
    "#packages for sentiment analysis\n",
    "\n",
    "import en_core_web_sm\n",
    "from nltk.sentiment import SentimentAnalyzer\n",
    "from nltk.sentiment.vader import SentimentIntensityAnalyzer\n",
    "import nltk\n",
    "from nltk import FreqDist\n",
    "from nltk.corpus import stopwords\n",
    "from nltk.sentiment.util import *\n",
    "import gensim\n",
    "from gensim import corpora\n",
    "\n",
    "#package to create wordcloud\n",
    "from wordcloud import WordCloud\n",
    " \n",
    "\n",
    "# libraries for visualization\n",
    "import matplotlib.pyplot as plt\n",
    "import folium\n",
    "import seaborn as sns\n",
    "import plotly\n",
    "import plotly.plotly as py\n",
    "import plotly.graph_objs as go\n",
    "\n",
    "import pyLDAvis\n",
    "import pyLDAvis.gensim\n",
    "\n",
    "#library to show dropdown list\n",
    "from tkinter import *"
   ]
  },
  {
   "cell_type": "code",
   "execution_count": 140,
   "metadata": {},
   "outputs": [
    {
     "name": "stdout",
     "output_type": "stream",
     "text": [
      "Enter the city Name: Buffalo\n"
     ]
    }
   ],
   "source": [
    "city = str(input(\"Enter the city Name: \"))"
   ]
  },
  {
   "cell_type": "code",
   "execution_count": 141,
   "metadata": {},
   "outputs": [],
   "source": [
    "#retrieving the coordinates of the specified location\n",
    "geopy.geocoders.options.default_user_agent = 'aiyngara'\n",
    "nom = Nominatim()\n",
    "location=nom.geocode(city, timeout=5)\n",
    "lat_1=location.latitude\n",
    "long_1= location.longitude"
   ]
  },
  {
   "cell_type": "code",
   "execution_count": 146,
   "metadata": {},
   "outputs": [],
   "source": [
    "#Retreiving data from eventsbrite api\n",
    "url_1 = \"https://www.eventbriteapi.com/v3/events/search?location.longitude={}&location.latitude={}&expand=venue?&token=Enter your API token\".format(long_1, lat_1)\n",
    "results_1 = requests.get(url_1).json()\n",
    "event = results_1[\"events\"]\n",
    "events_table = json_normalize(event)\n",
    "events = []\n",
    "venue_id = []\n",
    "for i in event:\n",
    "    events.append(i[\"name\"][\"text\"])\n",
    "    venue_id.append(i[\"venue_id\"])\n",
    "x = {\"Events\" : events, \"Venue_id\" : venue_id}\n",
    "x = pd.DataFrame(x)"
   ]
  },
  {
   "cell_type": "code",
   "execution_count": 147,
   "metadata": {},
   "outputs": [],
   "source": [
    "y = x.Events.tolist()\n",
    "\n",
    "master = Tk()\n",
    "\n",
    "variable = StringVar(master)\n",
    "variable.set(\"Top Events\") # default value\n",
    "\n",
    "w = OptionMenu(master, variable, *(y)) \n",
    "w.pack()\n",
    "venue_id = []\n",
    "def ok():\n",
    "    venue_id.append(x.Venue_id[x[\"Events\"] == str(variable.get())].values[0])\n",
    "\n",
    "button = Button(master, text=\"OK\", command=ok)\n",
    "button.pack()\n",
    "\n",
    "mainloop()\n",
    "#x.Events.tolist()"
   ]
  },
  {
   "cell_type": "code",
   "execution_count": 148,
   "metadata": {},
   "outputs": [],
   "source": [
    "url_2 = \"https://www.eventbriteapi.com/v3/venues/{}/?token=Enter your token here\".format(venue_id[0])\n",
    "results_2 = requests.get(url_2).json()\n",
    "lat_2 = results_2['address']['latitude']\n",
    "long_2 = results_2['address']['longitude']"
   ]
  },
  {
   "cell_type": "code",
   "execution_count": 149,
   "metadata": {},
   "outputs": [],
   "source": [
    "CLIENT_ID = 'Enter your ID here'\n",
    "CLIENT_SECRET = 'Enter your Key here'\n",
    "VERSION = '20180604'"
   ]
  },
  {
   "cell_type": "code",
   "execution_count": 150,
   "metadata": {},
   "outputs": [],
   "source": [
    "url_3 = 'https://api.foursquare.com/v2/venues/explore?&client_id={}&client_secret={}&v={}&ll={},{}&r={}&limit={}'.format(\n",
    "    CLIENT_ID, \n",
    "    CLIENT_SECRET, \n",
    "    '20180604', \n",
    "    lat_2, \n",
    "    long_2, \n",
    "    1000, \n",
    "    20)\n",
    "results_3 = requests.get(url_3).json()"
   ]
  },
  {
   "cell_type": "code",
   "execution_count": 151,
   "metadata": {
    "scrolled": true
   },
   "outputs": [],
   "source": [
    "venues = results_3['response']['groups'][0]['items']\n",
    "nearby_venues = json_normalize(venues)\n",
    "filtered_columns = ['venue.name', 'venue.id', 'venue.categories', 'venue.location.lat', 'venue.location.lng']\n",
    "nearby_venues = nearby_venues.loc[:, filtered_columns]\n",
    "list = []\n",
    "i = 0\n",
    "while i < len(nearby_venues['venue.categories']):\n",
    "    x = nearby_venues['venue.categories'].apply(pd.Series)\n",
    "    list.append(x[0][i]['name'])\n",
    "    i = i+1\n",
    "\n",
    "nearby_venues['venue.categories'] = list\n",
    "# clean columns\n",
    "nearby_venues.columns = [col.split(\".\")[-1] for col in nearby_venues.columns]\n",
    "near_ven = nearby_venues[\"name\"].values.tolist()"
   ]
  },
  {
   "cell_type": "code",
   "execution_count": 152,
   "metadata": {},
   "outputs": [],
   "source": [
    "list_1 = nearby_venues[\"name\"].tolist()\n",
    "list_2 = nearby_venues[\"lat\"].tolist()\n",
    "list_3 = nearby_venues[\"lng\"].tolist()"
   ]
  },
  {
   "cell_type": "code",
   "execution_count": 153,
   "metadata": {},
   "outputs": [],
   "source": [
    "k=0\n",
    "venue_id = []\n",
    "\n",
    "while(k < len(list_1)):\n",
    "    url_4 = \"https://maps.googleapis.com/maps/api/place/findplacefromtext/json?input={}&inputtype=textquery&fields=photos,formatted_address,name,opening_hours,place_id&locationbias=circle:2000@{},{}&key=Enter your Key here\".format(list_1[k],list_2[k],list_3[k])\n",
    "    results_4 = requests.get(url_4).json()\n",
    "    venue_id.append(results_4['candidates'][0]['place_id'])\n",
    "    k=k+1"
   ]
  },
  {
   "cell_type": "code",
   "execution_count": 154,
   "metadata": {},
   "outputs": [],
   "source": [
    "kk=0\n",
    "venue_rev = {}\n",
    "latitude = []\n",
    "longitude = []\n",
    "ratings = []\n",
    "while(kk < len(venue_id)):\n",
    "    url_5 = \"https://maps.googleapis.com/maps/api/place/details/json?placeid={}&fields=name,rating,review,formatted_phone_number&key= Enter your Key here\".format(venue_id[kk])\n",
    "    results_5 = requests.get(url_5).json()\n",
    "    if(len(results_5[\"result\"]) > 1):\n",
    "        reviews = results_5[\"result\"][\"reviews\"]\n",
    "        reviews_table = json_normalize(reviews) \n",
    "        if (len(reviews_table[\"text\"].tolist()) == 5):\n",
    "            venue_rev[list_1[kk]]=reviews_table[\"text\"].tolist()\n",
    "            latitude.append(list_2[kk])\n",
    "            longitude.append(list_3[kk])\n",
    "            ratings.append(results_5[\"result\"][\"rating\"])\n",
    "    kk=kk+1"
   ]
  },
  {
   "cell_type": "code",
   "execution_count": 155,
   "metadata": {},
   "outputs": [],
   "source": [
    "venues = [*venue_rev]"
   ]
  },
  {
   "cell_type": "code",
   "execution_count": 157,
   "metadata": {},
   "outputs": [
    {
     "name": "stderr",
     "output_type": "stream",
     "text": [
      "C:\\Users\\aiyng\\AppData\\Local\\Continuum\\anaconda3\\lib\\site-packages\\ipykernel_launcher.py:6: DeprecationWarning:\n",
      "\n",
      "Vincenty is deprecated and is going to be removed in geopy 2.0. Use `geopy.distance.geodesic` (or the default `geopy.distance.distance`) instead, which is more accurate and always converges.\n",
      "\n",
      "C:\\Users\\aiyng\\AppData\\Local\\Continuum\\anaconda3\\lib\\site-packages\\ipykernel_launcher.py:6: DeprecationWarning:\n",
      "\n",
      "Vincenty is deprecated and is going to be removed in geopy 2.0. Use `geopy.distance.geodesic` (or the default `geopy.distance.distance`) instead, which is more accurate and always converges.\n",
      "\n",
      "C:\\Users\\aiyng\\AppData\\Local\\Continuum\\anaconda3\\lib\\site-packages\\ipykernel_launcher.py:6: DeprecationWarning:\n",
      "\n",
      "Vincenty is deprecated and is going to be removed in geopy 2.0. Use `geopy.distance.geodesic` (or the default `geopy.distance.distance`) instead, which is more accurate and always converges.\n",
      "\n",
      "C:\\Users\\aiyng\\AppData\\Local\\Continuum\\anaconda3\\lib\\site-packages\\ipykernel_launcher.py:6: DeprecationWarning:\n",
      "\n",
      "Vincenty is deprecated and is going to be removed in geopy 2.0. Use `geopy.distance.geodesic` (or the default `geopy.distance.distance`) instead, which is more accurate and always converges.\n",
      "\n",
      "C:\\Users\\aiyng\\AppData\\Local\\Continuum\\anaconda3\\lib\\site-packages\\ipykernel_launcher.py:6: DeprecationWarning:\n",
      "\n",
      "Vincenty is deprecated and is going to be removed in geopy 2.0. Use `geopy.distance.geodesic` (or the default `geopy.distance.distance`) instead, which is more accurate and always converges.\n",
      "\n",
      "C:\\Users\\aiyng\\AppData\\Local\\Continuum\\anaconda3\\lib\\site-packages\\ipykernel_launcher.py:6: DeprecationWarning:\n",
      "\n",
      "Vincenty is deprecated and is going to be removed in geopy 2.0. Use `geopy.distance.geodesic` (or the default `geopy.distance.distance`) instead, which is more accurate and always converges.\n",
      "\n",
      "C:\\Users\\aiyng\\AppData\\Local\\Continuum\\anaconda3\\lib\\site-packages\\ipykernel_launcher.py:6: DeprecationWarning:\n",
      "\n",
      "Vincenty is deprecated and is going to be removed in geopy 2.0. Use `geopy.distance.geodesic` (or the default `geopy.distance.distance`) instead, which is more accurate and always converges.\n",
      "\n",
      "C:\\Users\\aiyng\\AppData\\Local\\Continuum\\anaconda3\\lib\\site-packages\\ipykernel_launcher.py:6: DeprecationWarning:\n",
      "\n",
      "Vincenty is deprecated and is going to be removed in geopy 2.0. Use `geopy.distance.geodesic` (or the default `geopy.distance.distance`) instead, which is more accurate and always converges.\n",
      "\n",
      "C:\\Users\\aiyng\\AppData\\Local\\Continuum\\anaconda3\\lib\\site-packages\\ipykernel_launcher.py:6: DeprecationWarning:\n",
      "\n",
      "Vincenty is deprecated and is going to be removed in geopy 2.0. Use `geopy.distance.geodesic` (or the default `geopy.distance.distance`) instead, which is more accurate and always converges.\n",
      "\n",
      "C:\\Users\\aiyng\\AppData\\Local\\Continuum\\anaconda3\\lib\\site-packages\\ipykernel_launcher.py:6: DeprecationWarning:\n",
      "\n",
      "Vincenty is deprecated and is going to be removed in geopy 2.0. Use `geopy.distance.geodesic` (or the default `geopy.distance.distance`) instead, which is more accurate and always converges.\n",
      "\n",
      "C:\\Users\\aiyng\\AppData\\Local\\Continuum\\anaconda3\\lib\\site-packages\\ipykernel_launcher.py:6: DeprecationWarning:\n",
      "\n",
      "Vincenty is deprecated and is going to be removed in geopy 2.0. Use `geopy.distance.geodesic` (or the default `geopy.distance.distance`) instead, which is more accurate and always converges.\n",
      "\n",
      "C:\\Users\\aiyng\\AppData\\Local\\Continuum\\anaconda3\\lib\\site-packages\\ipykernel_launcher.py:6: DeprecationWarning:\n",
      "\n",
      "Vincenty is deprecated and is going to be removed in geopy 2.0. Use `geopy.distance.geodesic` (or the default `geopy.distance.distance`) instead, which is more accurate and always converges.\n",
      "\n",
      "C:\\Users\\aiyng\\AppData\\Local\\Continuum\\anaconda3\\lib\\site-packages\\ipykernel_launcher.py:6: DeprecationWarning:\n",
      "\n",
      "Vincenty is deprecated and is going to be removed in geopy 2.0. Use `geopy.distance.geodesic` (or the default `geopy.distance.distance`) instead, which is more accurate and always converges.\n",
      "\n",
      "C:\\Users\\aiyng\\AppData\\Local\\Continuum\\anaconda3\\lib\\site-packages\\ipykernel_launcher.py:6: DeprecationWarning:\n",
      "\n",
      "Vincenty is deprecated and is going to be removed in geopy 2.0. Use `geopy.distance.geodesic` (or the default `geopy.distance.distance`) instead, which is more accurate and always converges.\n",
      "\n",
      "C:\\Users\\aiyng\\AppData\\Local\\Continuum\\anaconda3\\lib\\site-packages\\ipykernel_launcher.py:6: DeprecationWarning:\n",
      "\n",
      "Vincenty is deprecated and is going to be removed in geopy 2.0. Use `geopy.distance.geodesic` (or the default `geopy.distance.distance`) instead, which is more accurate and always converges.\n",
      "\n",
      "C:\\Users\\aiyng\\AppData\\Local\\Continuum\\anaconda3\\lib\\site-packages\\ipykernel_launcher.py:6: DeprecationWarning:\n",
      "\n",
      "Vincenty is deprecated and is going to be removed in geopy 2.0. Use `geopy.distance.geodesic` (or the default `geopy.distance.distance`) instead, which is more accurate and always converges.\n",
      "\n",
      "C:\\Users\\aiyng\\AppData\\Local\\Continuum\\anaconda3\\lib\\site-packages\\ipykernel_launcher.py:6: DeprecationWarning:\n",
      "\n",
      "Vincenty is deprecated and is going to be removed in geopy 2.0. Use `geopy.distance.geodesic` (or the default `geopy.distance.distance`) instead, which is more accurate and always converges.\n",
      "\n",
      "C:\\Users\\aiyng\\AppData\\Local\\Continuum\\anaconda3\\lib\\site-packages\\ipykernel_launcher.py:6: DeprecationWarning:\n",
      "\n",
      "Vincenty is deprecated and is going to be removed in geopy 2.0. Use `geopy.distance.geodesic` (or the default `geopy.distance.distance`) instead, which is more accurate and always converges.\n",
      "\n",
      "C:\\Users\\aiyng\\AppData\\Local\\Continuum\\anaconda3\\lib\\site-packages\\ipykernel_launcher.py:6: DeprecationWarning:\n",
      "\n",
      "Vincenty is deprecated and is going to be removed in geopy 2.0. Use `geopy.distance.geodesic` (or the default `geopy.distance.distance`) instead, which is more accurate and always converges.\n",
      "\n"
     ]
    }
   ],
   "source": [
    "#import geopy.distance\n",
    "coordinates_1 = (float(lat_2), float(long_2)) #The event location\n",
    "distance = []\n",
    "for coord in range(len(latitude)):\n",
    "    coordinates_2 = (latitude[coord], longitude[coord])\n",
    "    distance.append(math.ceil(geopy.distance.vincenty(coordinates_1, coordinates_2).km*1000))"
   ]
  },
  {
   "cell_type": "code",
   "execution_count": 159,
   "metadata": {},
   "outputs": [],
   "source": [
    "sentance = pd.DataFrame(venue_rev)"
   ]
  },
  {
   "cell_type": "code",
   "execution_count": 160,
   "metadata": {},
   "outputs": [],
   "source": [
    "#Converting every review into a numerical value with a maximum of 5 points based on the \n",
    "#positive and negative scores obtained from SentimentIntensityAnalyzer and stored as ratings_weighted\n",
    "score = []\n",
    "length_review = []\n",
    "for names in venues:\n",
    "    score.append(sentance[names].tolist())\n",
    "for length in range(len(score)):\n",
    "    length_review.append(len(score[length]))\n",
    "pos_score = []\n",
    "neg_score = []\n",
    "neu_score = []\n",
    "review_score_pos=[]\n",
    "review_score_neg=[]\n",
    "review_score_neu=[]\n",
    "sid = SentimentIntensityAnalyzer()\n",
    "gk=0\n",
    "\n",
    "while(gk<len(score)):\n",
    "    positive_Score_list=[]\n",
    "    negative_Score_list=[]\n",
    "    neutral_Score_list=[]\n",
    "    gh=0   \n",
    "    \n",
    "    while(gh<len(score[gk])):\n",
    "        ss = sid.polarity_scores(score[gk][gh])\n",
    "        for k,j in ss.items():\n",
    "            if(k=='pos'):\n",
    "                positive_Score_list.append(j)\n",
    "            if(k=='neg'):\n",
    "                negative_Score_list.append(j)\n",
    "            if(k=='neu'):\n",
    "                neutral_Score_list.append(j)\n",
    "            \n",
    "        gh=gh+1\n",
    "    pos_score.append(positive_Score_list)\n",
    "    neg_score.append(negative_Score_list)\n",
    "    neu_score.append(neutral_Score_list)\n",
    "    review_score_pos.append((sum(pos_score[gk])/length_review[gk])*100)\n",
    "    review_score_neg.append((sum(neg_score[gk])/length_review[gk])*100)\n",
    "    review_score_neu.append((sum(neu_score[gk])/length_review[gk])*100)\n",
    "    gk=gk+1"
   ]
  },
  {
   "cell_type": "code",
   "execution_count": 24,
   "metadata": {},
   "outputs": [],
   "source": [
    "#calculating the rating scores based on the review\n",
    "rev_score = np.array(review_score_pos)/(np.array(review_score_neg)+ np.array(review_score_pos)) * 5\n",
    "weighted_ratings = (0.5*np.array(ratings)) + (0.5* rev_score)\n",
    "ratings_weighted = np.around((weighted_ratings),2).tolist()"
   ]
  },
  {
   "cell_type": "code",
   "execution_count": 231,
   "metadata": {},
   "outputs": [],
   "source": [
    "venues_map = folium.Map(location=[float(lat_2), float(long_2)], zoom_start=15, tiles=\"cartodbpositron\")\n",
    "folium.Marker(location=[float(lat_2), float(long_2)], icon=folium.Icon(color='Red', icon='ok-sign')).add_to(venues_map)\n",
    "for lat, lng, label, dist, rat in zip(latitude, longitude, venues, distance, ratings_weighted):\n",
    "    folium.CircleMarker(\n",
    "        [lat, lng], radius = 3**rat/15 , color = \"#31c4cc\", popup =\"Name : \" + label + \", distance : \" + str(dist) + \" meters\" + \"ratings : \" + str(rat) , fill_color = '#ff9c3f', fill_opacity=0.8\n",
    "    ).add_to(venues_map)"
   ]
  },
  {
   "cell_type": "code",
   "execution_count": 232,
   "metadata": {},
   "outputs": [
    {
     "data": {
      "text/html": [
       "<div style=\"width:100%;\"><div style=\"position:relative;width:100%;height:0;padding-bottom:60%;\"><iframe src=\"data:text/html;charset=utf-8;base64,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\" style=\"position:absolute;width:100%;height:100%;left:0;top:0;border:none !important;\" allowfullscreen webkitallowfullscreen mozallowfullscreen></iframe></div></div>"
      ],
      "text/plain": [
       "<folium.folium.Map at 0x24d7b02f320>"
      ]
     },
     "execution_count": 232,
     "metadata": {},
     "output_type": "execute_result"
    }
   ],
   "source": [
    "#shows the top 20 hangout spots around 1000m radius from the event in a map\n",
    "venues_map"
   ]
  },
  {
   "cell_type": "code",
   "execution_count": 27,
   "metadata": {},
   "outputs": [
    {
     "data": {
      "text/html": [
       "<div>\n",
       "<style scoped>\n",
       "    .dataframe tbody tr th:only-of-type {\n",
       "        vertical-align: middle;\n",
       "    }\n",
       "\n",
       "    .dataframe tbody tr th {\n",
       "        vertical-align: top;\n",
       "    }\n",
       "\n",
       "    .dataframe thead th {\n",
       "        text-align: right;\n",
       "    }\n",
       "</style>\n",
       "<table border=\"1\" class=\"dataframe\">\n",
       "  <thead>\n",
       "    <tr style=\"text-align: right;\">\n",
       "      <th></th>\n",
       "      <th>venue name</th>\n",
       "      <th>ratings</th>\n",
       "      <th>actual ratings</th>\n",
       "      <th>Distance from the event in meters</th>\n",
       "      <th>reviews</th>\n",
       "    </tr>\n",
       "  </thead>\n",
       "  <tbody>\n",
       "    <tr>\n",
       "      <th>5</th>\n",
       "      <td>Campus House</td>\n",
       "      <td>5.0</td>\n",
       "      <td>5.0</td>\n",
       "      <td>119</td>\n",
       "      <td>[Extremely professional staff, immaculate dini...</td>\n",
       "    </tr>\n",
       "  </tbody>\n",
       "</table>\n",
       "</div>"
      ],
      "text/plain": [
       "     venue name  ratings  actual ratings  Distance from the event in meters  \\\n",
       "5  Campus House      5.0             5.0                                119   \n",
       "\n",
       "                                             reviews  \n",
       "5  [Extremely professional staff, immaculate dini...  "
      ]
     },
     "execution_count": 27,
     "metadata": {},
     "output_type": "execute_result"
    }
   ],
   "source": [
    "#creating a dictionary of venue names, ratings(from reviews), actual ratings, distance and reviews\n",
    "dictionary = {\"venue name\" : venues, \"ratings\" : ratings_weighted, \"actual ratings\" : ratings, \"Distance from the event in meters\" : distance, \"reviews\" : score}\n",
    "final = pd.DataFrame(dictionary)\n",
    "\n",
    "#shows the shortes hangout spot from the event location\n",
    "shortest = final[final[\"Distance from the event in meters\"] == final[\"Distance from the event in meters\"].min()]\n",
    "shortest"
   ]
  },
  {
   "cell_type": "code",
   "execution_count": 28,
   "metadata": {},
   "outputs": [
    {
     "data": {
      "text/html": [
       "<div>\n",
       "<style scoped>\n",
       "    .dataframe tbody tr th:only-of-type {\n",
       "        vertical-align: middle;\n",
       "    }\n",
       "\n",
       "    .dataframe tbody tr th {\n",
       "        vertical-align: top;\n",
       "    }\n",
       "\n",
       "    .dataframe thead th {\n",
       "        text-align: right;\n",
       "    }\n",
       "</style>\n",
       "<table border=\"1\" class=\"dataframe\">\n",
       "  <thead>\n",
       "    <tr style=\"text-align: right;\">\n",
       "      <th></th>\n",
       "      <th>venue name</th>\n",
       "      <th>ratings</th>\n",
       "      <th>actual ratings</th>\n",
       "      <th>Distance from the event in meters</th>\n",
       "      <th>reviews</th>\n",
       "    </tr>\n",
       "  </thead>\n",
       "  <tbody>\n",
       "    <tr>\n",
       "      <th>5</th>\n",
       "      <td>Campus House</td>\n",
       "      <td>5.0</td>\n",
       "      <td>5.0</td>\n",
       "      <td>119</td>\n",
       "      <td>[Extremely professional staff, immaculate dini...</td>\n",
       "    </tr>\n",
       "  </tbody>\n",
       "</table>\n",
       "</div>"
      ],
      "text/plain": [
       "     venue name  ratings  actual ratings  Distance from the event in meters  \\\n",
       "5  Campus House      5.0             5.0                                119   \n",
       "\n",
       "                                             reviews  \n",
       "5  [Extremely professional staff, immaculate dini...  "
      ]
     },
     "execution_count": 28,
     "metadata": {},
     "output_type": "execute_result"
    }
   ],
   "source": [
    "#shows the best hangout spot from the event location based on the ratings\n",
    "best = final[final[\"ratings\"] == final[\"ratings\"].max()]\n",
    "best"
   ]
  },
  {
   "cell_type": "code",
   "execution_count": 31,
   "metadata": {},
   "outputs": [],
   "source": [
    "#creating a dropdown list of popular hangoutspots/venues around the event location to make a selection\n",
    "reviews_1 = [*venue_rev]\n",
    "\n",
    "master = Tk()\n",
    "\n",
    "variable = StringVar(master)\n",
    "variable.set(\"Popular Venues\") # default value\n",
    "\n",
    "w = OptionMenu(master, variable, *(reviews_1)) \n",
    "w.pack()\n",
    "selected_name = []\n",
    "def ok():\n",
    "    selected_name.append(str(variable.get()))\n",
    "\n",
    "button = Button(master, text=\"OK\", command=ok)\n",
    "button.pack()\n",
    "\n",
    "mainloop()\n",
    "#x.Events.tolist()"
   ]
  },
  {
   "cell_type": "code",
   "execution_count": 32,
   "metadata": {},
   "outputs": [
    {
     "data": {
      "text/plain": [
       "'BikeorBar'"
      ]
     },
     "execution_count": 32,
     "metadata": {},
     "output_type": "execute_result"
    }
   ],
   "source": [
    "venue_name = selected_name[0]\n",
    "#venue_name"
   ]
  },
  {
   "cell_type": "code",
   "execution_count": 34,
   "metadata": {},
   "outputs": [],
   "source": [
    "positive_Score_list_1=[]\n",
    "negative_Score_list_1=[]\n",
    "neutral_Score_list_1=[]\n",
    "\n",
    "length_review = len(sentance[venue_name])\n",
    "review_score=[]\n",
    "\n",
    "for dum in sentance[venue_name]:\n",
    "    ss_1 = sid.polarity_scores(dum)\n",
    "    #print(ss_1)\n",
    "    for l,m in ss_1.items():\n",
    "        if(l=='pos'):\n",
    "            positive_Score_list_1.append(m)\n",
    "        if(l=='neg'):\n",
    "            negative_Score_list_1.append(m)\n",
    "        if(l=='neu'):\n",
    "            neutral_Score_list_1.append(m)\n",
    "\n",
    "review_score.append((sum(positive_Score_list_1)/length_review)*100)\n",
    "review_score.append((sum(negative_Score_list_1)/length_review)*100)\n",
    "review_score.append((sum(neutral_Score_list_1)/length_review)*100)\n",
    "#review_score"
   ]
  },
  {
   "cell_type": "code",
   "execution_count": 138,
   "metadata": {
    "scrolled": true
   },
   "outputs": [
    {
     "data": {
      "text/html": [
       "<script type=\"text/javascript\">window.PlotlyConfig = {MathJaxConfig: 'local'};</script><script type=\"text/javascript\">if (window.MathJax) {MathJax.Hub.Config({SVG: {font: \"STIX-Web\"}});}</script><script>requirejs.config({paths: { 'plotly': ['https://cdn.plot.ly/plotly-latest.min']},});if(!window._Plotly) {require(['plotly'],function(plotly) {window._Plotly=plotly;});}</script>"
      ],
      "text/vnd.plotly.v1+html": [
       "<script type=\"text/javascript\">window.PlotlyConfig = {MathJaxConfig: 'local'};</script><script type=\"text/javascript\">if (window.MathJax) {MathJax.Hub.Config({SVG: {font: \"STIX-Web\"}});}</script><script>requirejs.config({paths: { 'plotly': ['https://cdn.plot.ly/plotly-latest.min']},});if(!window._Plotly) {require(['plotly'],function(plotly) {window._Plotly=plotly;});}</script>"
      ]
     },
     "metadata": {},
     "output_type": "display_data"
    },
    {
     "data": {
      "application/vnd.plotly.v1+json": {
       "config": {
        "linkText": "Export to plot.ly",
        "plotlyServerURL": "https://plot.ly",
        "showLink": false
       },
       "data": [
        {
         "labels": [
          "Positive",
          "Negative",
          "Neutral"
         ],
         "type": "pie",
         "uid": "2136f4cb-988c-4c1a-afe0-18c1f4716b8d",
         "values": [
          54.620000000000005,
          0.9600000000000001,
          44.400000000000006
         ]
        }
       ],
       "layout": {}
      },
      "text/html": [
       "<div id=\"08d88ac7-9a39-4cf7-8a23-9203874c0050\" style=\"height: 525px; width: 100%;\" class=\"plotly-graph-div\"></div><script type=\"text/javascript\">require([\"plotly\"], function(Plotly) { window.PLOTLYENV=window.PLOTLYENV || {};window.PLOTLYENV.BASE_URL=\"https://plot.ly\";Plotly.newPlot(\"08d88ac7-9a39-4cf7-8a23-9203874c0050\", [{\"labels\": [\"Positive\", \"Negative\", \"Neutral\"], \"values\": [54.620000000000005, 0.9600000000000001, 44.400000000000006], \"type\": \"pie\", \"uid\": \"f4e54077-96e6-47ce-a095-e4d899ef657b\"}], {}, {\"showLink\": false, \"linkText\": \"Export to plot.ly\", \"plotlyServerURL\": \"https://plot.ly\"})});</script><script type=\"text/javascript\">window.addEventListener(\"resize\", function(){window._Plotly.Plots.resize(document.getElementById(\"08d88ac7-9a39-4cf7-8a23-9203874c0050\"));});</script>"
      ],
      "text/vnd.plotly.v1+html": [
       "<div id=\"08d88ac7-9a39-4cf7-8a23-9203874c0050\" style=\"height: 525px; width: 100%;\" class=\"plotly-graph-div\"></div><script type=\"text/javascript\">require([\"plotly\"], function(Plotly) { window.PLOTLYENV=window.PLOTLYENV || {};window.PLOTLYENV.BASE_URL=\"https://plot.ly\";Plotly.newPlot(\"08d88ac7-9a39-4cf7-8a23-9203874c0050\", [{\"labels\": [\"Positive\", \"Negative\", \"Neutral\"], \"values\": [54.620000000000005, 0.9600000000000001, 44.400000000000006], \"type\": \"pie\", \"uid\": \"f4e54077-96e6-47ce-a095-e4d899ef657b\"}], {}, {\"showLink\": false, \"linkText\": \"Export to plot.ly\", \"plotlyServerURL\": \"https://plot.ly\"})});</script><script type=\"text/javascript\">window.addEventListener(\"resize\", function(){window._Plotly.Plots.resize(document.getElementById(\"08d88ac7-9a39-4cf7-8a23-9203874c0050\"));});</script>"
      ]
     },
     "metadata": {},
     "output_type": "display_data"
    }
   ],
   "source": [
    "color = [\"green\", \"red\", \"blue\"]\n",
    "labels = [\"Positive\", \"Negative\", \"Neutral\"]\n",
    "trace = go.Pie(labels=labels, values=review_score)\n",
    "plotly.offline.init_notebook_mode(connected = True)\n",
    "plotly.offline.iplot([trace], filename='basic_pie_chart')"
   ]
  },
  {
   "cell_type": "code",
   "execution_count": 39,
   "metadata": {},
   "outputs": [],
   "source": [
    "#A function to plot the frequency of words\n",
    "def freq_words(x, terms = 30):\n",
    "    all_words = ' '.join([text for text in x])\n",
    "    all_words = all_words.split()\n",
    "    fdist = FreqDist(all_words)\n",
    "    fdist_keys=[]\n",
    "    fdist_values=[]\n",
    "    for key in fdist.keys():\n",
    "        fdist_keys.append(key)\n",
    "    for values in fdist.values():\n",
    "        fdist_values.append(values)  \n",
    "    \n",
    "    words_df = pd.DataFrame({'word':fdist_keys, 'count':fdist_values})\n",
    "    d = words_df.nlargest(columns=\"count\", n = terms) \n",
    "    plt.figure(figsize=(20,5))\n",
    "    ax = sns.barplot(data=d, x= \"word\", y = \"count\")\n",
    "    ax.set(ylabel = 'Count')\n",
    "    plt.show()"
   ]
  },
  {
   "cell_type": "code",
   "execution_count": 40,
   "metadata": {},
   "outputs": [],
   "source": [
    "# remove unwanted characters, numbers and symbols\n",
    "sentance[venue_name] = sentance[venue_name].str.replace(\"[^a-zA-Z#]\", \" \")"
   ]
  },
  {
   "cell_type": "code",
   "execution_count": 41,
   "metadata": {},
   "outputs": [],
   "source": [
    "#from nltk.corpus import stopwords\n",
    "#nltk.download('stopwords')\n",
    "\n",
    "stop_words = stopwords.words('english')"
   ]
  },
  {
   "cell_type": "code",
   "execution_count": 42,
   "metadata": {},
   "outputs": [],
   "source": [
    "# function to remove stopwords\n",
    "def remove_stopwords(rev):\n",
    "    rev_new = \" \".join([i for i in rev if i not in stop_words])\n",
    "    return rev_new\n",
    "\n",
    "# remove short words (length < 3)\n",
    "sentance[venue_name] = sentance[venue_name].apply(lambda x: ' '.join([w for w in x.split() if len(w)>2]))\n",
    "\n",
    "# remove stopwords from the text\n",
    "reviews = [remove_stopwords(r.split()) for r in sentance[venue_name]]\n",
    "\n",
    "# make entire text lowercase\n",
    "reviews = [r.lower() for r in reviews]"
   ]
  },
  {
   "cell_type": "code",
   "execution_count": 43,
   "metadata": {},
   "outputs": [],
   "source": [
    "#import en_core_web_sm\n",
    "nlp = en_core_web_sm.load()"
   ]
  },
  {
   "cell_type": "code",
   "execution_count": 44,
   "metadata": {},
   "outputs": [],
   "source": [
    "#A function for lemmatizing (filtering nouns and adjectives)\n",
    "def lemmatization(texts, tags=['NOUN', 'ADJ']): # filter noun and adjective\n",
    "    output = []\n",
    "    for sent in texts:\n",
    "        doc = nlp(\" \".join(sent)) \n",
    "        output.append([token.lemma_ for token in doc if token.pos_ in tags])\n",
    "    return output"
   ]
  },
  {
   "cell_type": "code",
   "execution_count": 45,
   "metadata": {},
   "outputs": [
    {
     "name": "stdout",
     "output_type": "stream",
     "text": [
      "['crazy', 'intense', 'classes', 'make', 'every', 'workout', 'enjoyable', 'unforgettable', 'been', 'fan', 'since', 'inception', 'every', 'year', 'bikeorbar', 'keeps', 'topping', 'game', 'crossfit', 'hip', 'hop', 'spin', 'hiit', 'classes', 'name', 'ahead', 'curve', 'years', 'highly', 'recommended']\n"
     ]
    }
   ],
   "source": [
    "tokenized_reviews = pd.Series(reviews).apply(lambda x: x.split())\n",
    "#print(tokenized_reviews[1])"
   ]
  },
  {
   "cell_type": "code",
   "execution_count": 46,
   "metadata": {},
   "outputs": [
    {
     "name": "stdout",
     "output_type": "stream",
     "text": [
      "['crazy', 'intense', 'class', 'workout', 'enjoyable', 'unforgettable', 'fan', 'inception', 'year', 'bikeorbar', 'game', 'crossfit', 'hip', 'hop', 'spin', 'hiit', 'class', 'curve', 'year']\n"
     ]
    }
   ],
   "source": [
    "reviews_2 = lemmatization(tokenized_reviews)\n",
    "#print(reviews_2[1]) # print lemmatized review"
   ]
  },
  {
   "cell_type": "code",
   "execution_count": 47,
   "metadata": {},
   "outputs": [
    {
     "data": {
      "image/png": "[encoded data removed]",
      "text/plain": [
       "<Figure size 1440x360 with 1 Axes>"
      ]
     },
     "metadata": {
      "needs_background": "light"
     },
     "output_type": "display_data"
    }
   ],
   "source": [
    "#plotting mostfrequent words after lemmatizing\n",
    "reviews_3 = []\n",
    "for i in range(len(reviews_2)):\n",
    "    reviews_3.append(' '.join(reviews_2[i]))\n",
    "\n",
    "sentance[venue_name] = reviews_3\n",
    "freq_words(sentance[venue_name], 20)"
   ]
  },
  {
   "cell_type": "code",
   "execution_count": 91,
   "metadata": {},
   "outputs": [],
   "source": [
    "joined_reviews = \" \".join([t for t in reviews])"
   ]
  },
  {
   "cell_type": "code",
   "execution_count": 68,
   "metadata": {},
   "outputs": [
    {
     "data": {
      "image/png": "[encoded data removed]",
      "text/plain": [
       "<Figure size 432x288 with 1 Axes>"
      ]
     },
     "metadata": {
      "needs_background": "light"
     },
     "output_type": "display_data"
    }
   ],
   "source": [
    "\n",
    "text = joined_reviews\n",
    "\n",
    "# Create and generate a word cloud image:\n",
    "wordcloud = WordCloud().generate(text)\n",
    "\n",
    "# Display the generated image:\n",
    "plt.imshow(wordcloud, interpolation='bilinear')\n",
    "plt.axis(\"off\")\n",
    "plt.show()"
   ]
  }
 ],
 "metadata": {
  "kernelspec": {
   "display_name": "Python 3",
   "language": "python",
   "name": "python3"
  },
  "language_info": {
   "codemirror_mode": {
    "name": "ipython",
    "version": 3
   },
   "file_extension": ".py",
   "mimetype": "text/x-python",
   "name": "python",
   "nbconvert_exporter": "python",
   "pygments_lexer": "ipython3",
   "version": "3.7.1"
  }
 },
 "nbformat": 4,
 "nbformat_minor": 2
}
